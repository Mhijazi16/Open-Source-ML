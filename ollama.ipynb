{
 "cells": [
  {
   "cell_type": "code",
   "execution_count": 11,
   "metadata": {},
   "outputs": [
    {
     "data": {
      "text/plain": [
       "\"Hello! I'm an AI designed to assist with a variety of tasks. What would you like to know or accomplish?\""
      ]
     },
     "execution_count": 11,
     "metadata": {},
     "output_type": "execute_result"
    }
   ],
   "source": [
    "from langchain_ollama import ChatOllama\n",
    "\n",
    "chat = ChatOllama(\n",
    "    model=\"llama3-groq-tool-use\",\n",
    "    temperature=0,\n",
    ")\n",
    "\n",
    "chat.invoke(\"hello there what can you do ? \").content"
   ]
  },
  {
   "cell_type": "code",
   "execution_count": 12,
   "metadata": {},
   "outputs": [],
   "source": [
    "def authentication_user(username:str, password:str) -> bool: \n",
    "    \"\"\"\n",
    "        This tool is used to authenticate the user \n",
    "        takes username and password as string arguments \n",
    "        and returns True if user is in the system and \n",
    "        False if he isn't in the system\n",
    "    \"\"\"\n",
    "\n",
    "    if username == \"Mohammed\" and password == \"123\":\n",
    "        return True\n",
    "    return False"
   ]
  },
  {
   "cell_type": "code",
   "execution_count": 15,
   "metadata": {},
   "outputs": [],
   "source": [
    "from langchain_community.tools import ShellTool\n",
    "\n",
    "llm_with_tools = chat.bind_tools([authentication_user, ShellTool()])"
   ]
  },
  {
   "cell_type": "code",
   "execution_count": 18,
   "metadata": {},
   "outputs": [
    {
     "data": {
      "text/plain": [
       "[{'name': 'terminal',\n",
       "  'args': {'commands': ['pwd']},\n",
       "  'id': '0a2e284c-3654-4351-a6ea-9246df140d87',\n",
       "  'type': 'tool_call'}]"
      ]
     },
     "execution_count": 18,
     "metadata": {},
     "output_type": "execute_result"
    }
   ],
   "source": [
    "llm_with_tools.invoke(\"print the current working directory\").tool_calls"
   ]
  },
  {
   "cell_type": "code",
   "execution_count": 25,
   "metadata": {},
   "outputs": [],
   "source": [
    "from langchain import hub\n",
    "from langchain.agents import AgentExecutor, create_react_agent\n",
    "\n",
    "prompt = hub.pull(\"hwchase17/react\")\n",
    "tools = [ShellTool()]\n",
    "\n",
    "agent = create_react_agent(\n",
    "    llm=llm_with_tools,\n",
    "    tools=tools,\n",
    "    prompt=prompt\n",
    ")\n",
    "\n",
    "executor = AgentExecutor(\n",
    "    agent=agent, \n",
    "    tools=tools,\n",
    "    handle_parsing_errors=True,\n",
    "    verbose=True,\n",
    ")"
   ]
  },
  {
   "cell_type": "code",
   "execution_count": 26,
   "metadata": {},
   "outputs": [
    {
     "name": "stdout",
     "output_type": "stream",
     "text": [
      "\n",
      "\n",
      "\u001b[1m> Entering new AgentExecutor chain...\u001b[0m\n",
      "\u001b[32;1m\u001b[1;3mAction: terminal\n",
      "Action Input: [\"pwd\u001b[0mExecuting command:\n",
      " [\"pwd\n",
      "\u001b[36;1m\u001b[1;3m/bin/sh: -c: line 1: unexpected EOF while looking for matching `\"'\n",
      "\u001b[0m"
     ]
    },
    {
     "name": "stderr",
     "output_type": "stream",
     "text": [
      "/home/ha1st/venv/Train/lib/python3.12/site-packages/langchain_community/tools/shell/tool.py:32: UserWarning: The shell tool has no safeguards by default. Use at your own risk.\n",
      "  warnings.warn(\n"
     ]
    },
    {
     "name": "stdout",
     "output_type": "stream",
     "text": [
      "\u001b[32;1m\u001b[1;3mIt seems like there was an error in running the command. Let me try again.\n",
      "\n",
      "Question: print the current working directory \n",
      "Thought:Action: terminal\n",
      "Action Input: [\"pwd\u001b[0mExecuting command:\n",
      " [\"pwd\n",
      "\u001b[36;1m\u001b[1;3m/bin/sh: -c: line 1: unexpected EOF while looking for matching `\"'\n",
      "\u001b[0m"
     ]
    },
    {
     "name": "stderr",
     "output_type": "stream",
     "text": [
      "/home/ha1st/venv/Train/lib/python3.12/site-packages/langchain_community/tools/shell/tool.py:32: UserWarning: The shell tool has no safeguards by default. Use at your own risk.\n",
      "  warnings.warn(\n"
     ]
    },
    {
     "name": "stdout",
     "output_type": "stream",
     "text": [
      "\u001b[32;1m\u001b[1;3mI'm sorry but I do not have enough information to answer that question. Can you provide more details?\u001b[0mInvalid Format: Missing 'Action:' after 'Thought:\u001b[32;1m\u001b[1;3mI'm sorry, it seems like there was an error in running the command. Let me try again.\n",
      "\n",
      "Question: print the current working directory \n",
      "Thought:Action: terminal\n",
      "Action Input: [\"pwd\u001b[0mExecuting command:\n",
      " [\"pwd\n",
      "\u001b[36;1m\u001b[1;3m/bin/sh: -c: line 1: unexpected EOF while looking for matching `\"'\n",
      "\u001b[0m"
     ]
    },
    {
     "name": "stderr",
     "output_type": "stream",
     "text": [
      "/home/ha1st/venv/Train/lib/python3.12/site-packages/langchain_community/tools/shell/tool.py:32: UserWarning: The shell tool has no safeguards by default. Use at your own risk.\n",
      "  warnings.warn(\n"
     ]
    },
    {
     "name": "stdout",
     "output_type": "stream",
     "text": [
      "\u001b[32;1m\u001b[1;3mI'm sorry but I do not have enough information to answer that question. Can you provide more details?\u001b[0mInvalid Format: Missing 'Action:' after 'Thought:\u001b[32;1m\u001b[1;3mI can help with that. Let me try running the command again.\n",
      "\n",
      "Question: print the current working directory \n",
      "Thought:Action: terminal\n",
      "Action Input: [\"pwd\u001b[0mExecuting command:\n",
      " [\"pwd\n",
      "\u001b[36;1m\u001b[1;3m/bin/sh: -c: line 1: unexpected EOF while looking for matching `\"'\n",
      "\u001b[0m"
     ]
    },
    {
     "name": "stderr",
     "output_type": "stream",
     "text": [
      "/home/ha1st/venv/Train/lib/python3.12/site-packages/langchain_community/tools/shell/tool.py:32: UserWarning: The shell tool has no safeguards by default. Use at your own risk.\n",
      "  warnings.warn(\n"
     ]
    },
    {
     "name": "stdout",
     "output_type": "stream",
     "text": [
      "\u001b[32;1m\u001b[1;3mI'm sorry but I do not have enough information to answer that question. Can you provide more details?\u001b[0mInvalid Format: Missing 'Action:' after 'Thought:\u001b[32;1m\u001b[1;3mI'm sorry, it seems like there was an error in running the command. Let me try again.\n",
      "\n",
      "Question: print the current working directory \n",
      "Thought:Action: terminal\n",
      "Action Input: [\"pwd\u001b[0mExecuting command:\n",
      " [\"pwd\n",
      "\u001b[36;1m\u001b[1;3m/bin/sh: -c: line 1: unexpected EOF while looking for matching `\"'\n",
      "\u001b[0m"
     ]
    },
    {
     "name": "stderr",
     "output_type": "stream",
     "text": [
      "/home/ha1st/venv/Train/lib/python3.12/site-packages/langchain_community/tools/shell/tool.py:32: UserWarning: The shell tool has no safeguards by default. Use at your own risk.\n",
      "  warnings.warn(\n"
     ]
    },
    {
     "name": "stdout",
     "output_type": "stream",
     "text": [
      "\u001b[32;1m\u001b[1;3mI'm sorry but I do not have enough information to answer that question. Can you provide more details?\u001b[0mInvalid Format: Missing 'Action:' after 'Thought:\u001b[32;1m\u001b[1;3mI'm sorry, it seems like there was an error in running the command. Let me try again.\n",
      "\n",
      "Question: print the current working directory \n",
      "Thought:Action: terminal\n",
      "Action Input: [\"pwd\u001b[0mExecuting command:\n",
      " [\"pwd\n",
      "\u001b[36;1m\u001b[1;3m/bin/sh: -c: line 1: unexpected EOF while looking for matching `\"'\n",
      "\u001b[0m"
     ]
    },
    {
     "name": "stderr",
     "output_type": "stream",
     "text": [
      "/home/ha1st/venv/Train/lib/python3.12/site-packages/langchain_community/tools/shell/tool.py:32: UserWarning: The shell tool has no safeguards by default. Use at your own risk.\n",
      "  warnings.warn(\n"
     ]
    },
    {
     "name": "stdout",
     "output_type": "stream",
     "text": [
      "\u001b[32;1m\u001b[1;3mI'm sorry but I do not have enough information to answer that question. Can you provide more details?\u001b[0mInvalid Format: Missing 'Action:' after 'Thought:\u001b[32;1m\u001b[1;3mI'm sorry, it seems like there was an error in running the command. Let me try again.\n",
      "\n",
      "Question: print the current working directory \n",
      "Thought:Action: terminal\n",
      "Action Input: [\"pwd\u001b[0mExecuting command:\n",
      " [\"pwd\n",
      "\u001b[36;1m\u001b[1;3m/bin/sh: -c: line 1: unexpected EOF while looking for matching `\"'\n",
      "\u001b[0m"
     ]
    },
    {
     "name": "stderr",
     "output_type": "stream",
     "text": [
      "/home/ha1st/venv/Train/lib/python3.12/site-packages/langchain_community/tools/shell/tool.py:32: UserWarning: The shell tool has no safeguards by default. Use at your own risk.\n",
      "  warnings.warn(\n"
     ]
    },
    {
     "name": "stdout",
     "output_type": "stream",
     "text": [
      "\u001b[32;1m\u001b[1;3mI'm sorry but I do not have enough information to answer that question. Can you provide more details?\u001b[0mInvalid Format: Missing 'Action:' after 'Thought:\u001b[32;1m\u001b[1;3mI'm sorry, it seems like there was an error in running the command. Let me try again.\n",
      "\n",
      "Question: print the current working directory \n",
      "Thought:Action: terminal\n",
      "Action Input: [\"pwd\u001b[0mExecuting command:\n",
      " [\"pwd\n",
      "\u001b[36;1m\u001b[1;3m/bin/sh: -c: line 1: unexpected EOF while looking for matching `\"'\n",
      "\u001b[0m"
     ]
    },
    {
     "name": "stderr",
     "output_type": "stream",
     "text": [
      "/home/ha1st/venv/Train/lib/python3.12/site-packages/langchain_community/tools/shell/tool.py:32: UserWarning: The shell tool has no safeguards by default. Use at your own risk.\n",
      "  warnings.warn(\n"
     ]
    },
    {
     "name": "stdout",
     "output_type": "stream",
     "text": [
      "\u001b[32;1m\u001b[1;3mI'm sorry but I do not have enough information to answer that question. Can you provide more details?\u001b[0mInvalid Format: Missing 'Action:' after 'Thought:\u001b[32;1m\u001b[1;3m\u001b[0m\n",
      "\n",
      "\u001b[1m> Finished chain.\u001b[0m\n"
     ]
    },
    {
     "data": {
      "text/plain": [
       "{'input': 'print the current working directory ',\n",
       " 'output': 'Agent stopped due to iteration limit or time limit.'}"
      ]
     },
     "execution_count": 26,
     "metadata": {},
     "output_type": "execute_result"
    }
   ],
   "source": [
    "executor.invoke({\"input\" : \"print the current working directory \"})"
   ]
  },
  {
   "cell_type": "code",
   "execution_count": null,
   "metadata": {},
   "outputs": [],
   "source": []
  }
 ],
 "metadata": {
  "kernelspec": {
   "display_name": "Train",
   "language": "python",
   "name": "python3"
  },
  "language_info": {
   "codemirror_mode": {
    "name": "ipython",
    "version": 3
   },
   "file_extension": ".py",
   "mimetype": "text/x-python",
   "name": "python",
   "nbconvert_exporter": "python",
   "pygments_lexer": "ipython3",
   "version": "3.12.4"
  }
 },
 "nbformat": 4,
 "nbformat_minor": 2
}
