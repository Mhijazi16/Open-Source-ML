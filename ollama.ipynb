{
 "cells": [
  {
   "cell_type": "code",
   "execution_count": 3,
   "metadata": {},
   "outputs": [
    {
     "data": {
      "text/plain": [
       "\"I can be used in a variety of ways, but here are some examples:\\n\\n1. **Answer questions**: I can provide information and answer questions on a wide range of topics, from science and history to entertainment and culture.\\n2. **Generate text**: I can create written content, such as articles, stories, or even entire books.\\n3. **Translate text**: I can translate text from one language to another in real-time.\\n4. **Summarize content**: I can summarize long pieces of text into shorter, more digestible versions.\\n5. **Offer advice**: I can provide advice on a wide range of topics, such as relationships, health, and finance.\\n6. **Create art**: I can generate images, music, or even poems!\\n7. **Play games**: I can play simple games with you, like 20 Questions or Hangman.\\n8. **Tell stories**: I can generate short stories or even entire novels, if you'd like!\\n9. **Learn from you**: I can learn from you and improve my responses over time.\\n\\nWhat would you like to do?\""
      ]
     },
     "execution_count": 3,
     "metadata": {},
     "output_type": "execute_result"
    }
   ],
   "source": [
    "from langchain_ollama import ChatOllama\n",
    "\n",
    "chat = ChatOllama(\n",
    "    model=\"llama3.1\",\n",
    "    temperature=0,\n",
    ")\n",
    "\n",
    "chat.invoke(\"hello there what can you do ? \").content"
   ]
  },
  {
   "cell_type": "code",
   "execution_count": null,
   "metadata": {},
   "outputs": [],
   "source": [
    "\n",
    "\n",
    "def authentication_user(username:str, password:str) -> bool: \n",
    "    \"\"\"\n",
    "        This tool is used to authenticate the user \n",
    "        takes username and password as string arguments \n",
    "        and returns True if user is in the system and \n",
    "        False if he isn't in the system\n",
    "    \"\"\"\n",
    "\n",
    "    if username == \"Mohammed\" and password == \"123\":\n",
    "        return True\n",
    "    return False\n"
   ]
  }
 ],
 "metadata": {
  "kernelspec": {
   "display_name": "Train",
   "language": "python",
   "name": "python3"
  },
  "language_info": {
   "codemirror_mode": {
    "name": "ipython",
    "version": 3
   },
   "file_extension": ".py",
   "mimetype": "text/x-python",
   "name": "python",
   "nbconvert_exporter": "python",
   "pygments_lexer": "ipython3",
   "version": "3.12.4"
  }
 },
 "nbformat": 4,
 "nbformat_minor": 2
}
