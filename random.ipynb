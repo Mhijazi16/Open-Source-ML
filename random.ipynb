{
 "cells": [
  {
   "cell_type": "code",
   "execution_count": 2,
   "metadata": {},
   "outputs": [
    {
     "name": "stdout",
     "output_type": "stream",
     "text": [
      "Requirement already satisfied: youtube-search in /home/ha1st/venv/Train/lib/python3.12/site-packages (2.1.2)\n",
      "Requirement already satisfied: requests in /home/ha1st/venv/Train/lib/python3.12/site-packages (from youtube-search) (2.32.3)\n",
      "Requirement already satisfied: charset-normalizer<4,>=2 in /home/ha1st/venv/Train/lib/python3.12/site-packages (from requests->youtube-search) (3.3.2)\n",
      "Requirement already satisfied: idna<4,>=2.5 in /home/ha1st/venv/Train/lib/python3.12/site-packages (from requests->youtube-search) (3.7)\n",
      "Requirement already satisfied: urllib3<3,>=1.21.1 in /home/ha1st/venv/Train/lib/python3.12/site-packages (from requests->youtube-search) (2.2.2)\n",
      "Requirement already satisfied: certifi>=2017.4.17 in /home/ha1st/venv/Train/lib/python3.12/site-packages (from requests->youtube-search) (2024.6.2)\n"
     ]
    }
   ],
   "source": [
    "!pip install youtube-search "
   ]
  },
  {
   "cell_type": "code",
   "execution_count": 18,
   "metadata": {},
   "outputs": [],
   "source": [
    "from youtube_search import YoutubeSearch\n",
    "\n",
    "results = YoutubeSearch('lang graph', max_results=1).to_dict()\n",
    "url = \"youtube.com\"\n",
    "id = \"\"\n",
    "for res in results: \n",
    "    id = res['id']\n"
   ]
  },
  {
   "cell_type": "code",
   "execution_count": 29,
   "metadata": {},
   "outputs": [
    {
     "ename": "TypeError",
     "evalue": "YouTubeTranscriptApi.list_transcripts() missing 1 required positional argument: 'video_id'",
     "output_type": "error",
     "traceback": [
      "\u001b[0;31m---------------------------------------------------------------------------\u001b[0m",
      "\u001b[0;31mTypeError\u001b[0m                                 Traceback (most recent call last)",
      "Cell \u001b[0;32mIn[29], line 4\u001b[0m\n\u001b[1;32m      1\u001b[0m \u001b[38;5;28;01mfrom\u001b[39;00m \u001b[38;5;21;01myoutube_transcript_api\u001b[39;00m \u001b[38;5;28;01mimport\u001b[39;00m YouTubeTranscriptApi\n\u001b[1;32m      2\u001b[0m \u001b[38;5;28;01mfrom\u001b[39;00m \u001b[38;5;21;01myoutube_transcript_api\u001b[39;00m\u001b[38;5;21;01m.\u001b[39;00m\u001b[38;5;21;01mformatters\u001b[39;00m \u001b[38;5;28;01mimport\u001b[39;00m TextFormatter\n\u001b[0;32m----> 4\u001b[0m json \u001b[38;5;241m=\u001b[39m \u001b[43mYouTubeTranscriptApi\u001b[49m\u001b[43m(\u001b[49m\u001b[43m)\u001b[49m\u001b[38;5;241;43m.\u001b[39;49m\u001b[43mlist_transcripts\u001b[49m\u001b[43m(\u001b[49m\u001b[43m)\u001b[49m\n\u001b[1;32m      5\u001b[0m json\n",
      "\u001b[0;31mTypeError\u001b[0m: YouTubeTranscriptApi.list_transcripts() missing 1 required positional argument: 'video_id'"
     ]
    }
   ],
   "source": [
    "from youtube_transcript_api import YouTubeTranscriptApi\n",
    "from youtube_transcript_api.formatters import TextFormatter\n",
    "\n",
    "json = YouTubeTranscriptApi()\n",
    "json"
   ]
  },
  {
   "cell_type": "code",
   "execution_count": null,
   "metadata": {},
   "outputs": [],
   "source": []
  }
 ],
 "metadata": {
  "kernelspec": {
   "display_name": "Train",
   "language": "python",
   "name": "python3"
  },
  "language_info": {
   "codemirror_mode": {
    "name": "ipython",
    "version": 3
   },
   "file_extension": ".py",
   "mimetype": "text/x-python",
   "name": "python",
   "nbconvert_exporter": "python",
   "pygments_lexer": "ipython3",
   "version": "3.12.4"
  }
 },
 "nbformat": 4,
 "nbformat_minor": 2
}
