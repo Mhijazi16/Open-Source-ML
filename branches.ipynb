{
 "cells": [
  {
   "cell_type": "code",
   "execution_count": 5,
   "metadata": {},
   "outputs": [],
   "source": [
    "from langchain_community.llms import Ollama\n",
    "import time"
   ]
  },
  {
   "cell_type": "code",
   "execution_count": 77,
   "metadata": {},
   "outputs": [],
   "source": [
    "model = Ollama(model=\"gemma2\")\n",
    "def run(chain,prompt=\"\"): \n",
    "    tokens = \"\"\n",
    "    start = time.time()\n",
    "    for chunk in chain.stream(prompt, ): \n",
    "        print(chunk, end='', flush=True)\n",
    "        tokens += chunk\n",
    "    end = time.time()\n",
    "    print(f\"\\n\\n => tokens/second : {len(tokens.split(\" \"))/(end-start)}\")"
   ]
  },
  {
   "cell_type": "code",
   "execution_count": 78,
   "metadata": {},
   "outputs": [],
   "source": [
    "from langchain.prompts import PromptTemplate\n",
    "from langchain.schema.output_parser import StrOutputParser\n",
    "from langchain_core.runnables import RunnableBranch"
   ]
  },
  {
   "cell_type": "code",
   "execution_count": 79,
   "metadata": {},
   "outputs": [],
   "source": [
    "prompt = PromptTemplate.from_template(\n",
    "    \"\"\"\n",
    "    You are a Calssifer assistant that helps me \n",
    "    classify customers feedback as Good, Bad, Neutral or Don't know \n",
    "    please only stick to these options and only output one word \n",
    "    nothing more nothing less \n",
    "    I want you to classify this : \n",
    "    {feedback}\n",
    "    \"\"\"\n",
    ")\n",
    "parser = StrOutputParser()\n",
    "\n",
    "classifier = prompt | model | parser"
   ]
  },
  {
   "cell_type": "code",
   "execution_count": 80,
   "metadata": {},
   "outputs": [],
   "source": [
    "good_chain = (lambda x: \"write a possitive message with emoji's\") | model | parser\n",
    "bad_chain = (lambda x: \"write a negative message with emoji's\") | model | parser\n",
    "neutral_chain = (lambda x: \"write a Neutral message with emoji's\") | model | parser\n",
    "idk_chain = (lambda x: \"write only random emoji's without saying anythin\") | model | parser"
   ]
  },
  {
   "cell_type": "code",
   "execution_count": 85,
   "metadata": {},
   "outputs": [],
   "source": [
    "router_chain = classifier | RunnableBranch(\n",
    "    (\n",
    "        lambda x: \"Good\" in x,\n",
    "        good_chain\n",
    "    ),\n",
    "    (\n",
    "        lambda x: \"Bad\" in x,\n",
    "        bad_chain\n",
    "    ),\n",
    "    (\n",
    "        lambda x: \"Neutral\" in x,\n",
    "        neutral_chain\n",
    "    ),\n",
    "    idk_chain\n",
    ")"
   ]
  },
  {
   "cell_type": "code",
   "execution_count": 89,
   "metadata": {},
   "outputs": [
    {
     "name": "stdout",
     "output_type": "stream",
     "text": [
      "👋 Just wanted to say hello and see how you're doing! 😊  \n",
      "\n",
      "\n",
      " => tokens/second : 2.664875689219304\n"
     ]
    }
   ],
   "source": [
    "run(router_chain, \"look I don't think its good or bad\")"
   ]
  }
 ],
 "metadata": {
  "kernelspec": {
   "display_name": "Train",
   "language": "python",
   "name": "python3"
  },
  "language_info": {
   "codemirror_mode": {
    "name": "ipython",
    "version": 3
   },
   "file_extension": ".py",
   "mimetype": "text/x-python",
   "name": "python",
   "nbconvert_exporter": "python",
   "pygments_lexer": "ipython3",
   "version": "3.12.4"
  }
 },
 "nbformat": 4,
 "nbformat_minor": 2
}
