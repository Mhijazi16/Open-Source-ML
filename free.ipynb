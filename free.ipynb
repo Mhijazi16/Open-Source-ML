{
 "cells": [
  {
   "cell_type": "code",
   "execution_count": null,
   "metadata": {},
   "outputs": [],
   "source": [
    "from langchain_community.chat_models import ChatOllama\n",
    "from langchain_experimental.llms.ollama_functions import OllamaFunctions\n",
    "from langchain_community.tools import ShellTool\n",
    "\n",
    "llm = ChatOllama(model=\"llama3.1\",format=\"json\",temperature=0.1).bind_tools([ShellTool()])\n",
    "llm2 = OllamaFunctions(model=\"llama3.1\",format=\"json\",temperature=0.1).bind_tools([ShellTool()])"
   ]
  },
  {
   "cell_type": "code",
   "execution_count": null,
   "metadata": {},
   "outputs": [],
   "source": [
    "\n",
    "for chunk in llm.stream(\"Whats the Linux command for printing the current Directory and what arguments it takes\"): \n",
    "    print(chunk.content, end=\"\", flush=True)\n",
    "\n",
    "for chunk in llm2.stream(\"Whats the Linux command for printing the current Directory and what arguments it takes\"): \n",
    "    print(chunk.content, end=\"\", flush=True)"
   ]
  },
  {
   "cell_type": "code",
   "execution_count": null,
   "metadata": {},
   "outputs": [],
   "source": [
    "res = llm2.invoke(\"your an assistant that tells me what tool to use to create a directory named theManWithTheCat\")\n",
    "res.tool_calls"
   ]
  },
  {
   "cell_type": "code",
   "execution_count": null,
   "metadata": {},
   "outputs": [],
   "source": [
    "!pip install langchain-ollama"
   ]
  },
  {
   "cell_type": "code",
   "execution_count": 17,
   "metadata": {},
   "outputs": [
    {
     "data": {
      "text/plain": [
       "1721907007.647848"
      ]
     },
     "execution_count": 17,
     "metadata": {},
     "output_type": "execute_result"
    }
   ],
   "source": []
  },
  {
   "cell_type": "code",
   "execution_count": null,
   "metadata": {},
   "outputs": [],
   "source": [
    "import time\n",
    "def stream_response(model, prompt): \n",
    "    tokens = \"\"\n",
    "    start = time.time()\n",
    "    for chunk in model.stream(prompt): \n",
    "        tokens += chunk\n",
    "        print(chunk, end=\"\", flush=True)\n",
    "    end = time.time() - start\n",
    "    print(f\"tokens per seconds {}\")"
   ]
  },
  {
   "cell_type": "code",
   "execution_count": null,
   "metadata": {},
   "outputs": [],
   "source": [
    "from langchain_ollama import ChatOllama\n",
    "from langchain_community.tools import Tool\n",
    "from typing import Dict\n",
    "\n",
    "chat = ChatOllama(\n",
    "    model=\"llama3.1\",\n",
    "    temperature=0.1, \n",
    "    format=\"json\"\n",
    ")\n"
   ]
  },
  {
   "cell_type": "code",
   "execution_count": 12,
   "metadata": {},
   "outputs": [
    {
     "data": {
      "text/plain": [
       "AIMessage(content='{   \"nmap\" : \"A network scanning and mapping tool used for reconnaissance and vulnerability assessment.\",\\n    \"sqlmap\" : \"An SQL injection exploitation tool used to identify vulnerabilities in web applications.\",\\n    \"burp suite\" : \"A comprehensive web application security testing tool that includes features like spider, scanner, injector, repeater, sequencer, and intruder.\",\\n    \"metasploit\" : \"A penetration testing framework that provides a wide range of tools for exploiting vulnerabilities and gaining access to systems.\",\\n    \"sqlninja\" : \"An SQL injection exploitation tool used to identify vulnerabilities in web applications.\",\\n    \"w3sploit\" : \"A web application security testing tool that includes features like spider, scanner, injector, repeater, sequencer, and intruder.\",\\n    \"sqlpwn\" : \"An SQL injection exploitation tool used to identify vulnerabilities in web applications.\",\\n    \"sqlshell\" : \"A command-line interface for SQL injection exploitation.\",\\n    \"sqlmap\" : \"An SQL injection exploitation tool used to identify vulnerabilities in web applications.\",\\n    \"w3sploit\" : \"A web application security testing tool that includes features like spider, scanner, injector, repeater, sequencer, and intruder.\",\\n    \"sqlpwn\" : \"An SQL injection exploitation tool used to identify vulnerabilities in web applications.\",\\n    \"sqlshell\" : \"A command-line interface for SQL injection exploitation.\",\\n    \"nmap\" : \"A network scanning and mapping tool used for reconnaissance and vulnerability assessment.\",\\n    \"sqlmap\" : \"An SQL injection exploitation tool used to identify vulnerabilities in web applications.\",\\n    \"w3sploit\" : \"A web application security testing tool that includes features like spider, scanner, injector, repeater, sequencer, and intruder.\",\\n    \"sqlpwn\" : \"An SQL injection exploitation tool used to identify vulnerabilities in web applications.\",\\n    \"sqlshell\" : \"A command-line interface for SQL injection exploitation.\",\\n    \"nmap\" : \"A network scanning and mapping tool used for reconnaissance and vulnerability assessment.\",\\n    \"sqlmap\" : \"An SQL injection exploitation tool used to identify vulnerabilities in web applications.\",\\n    \"w3sploit\" : \"A web application security testing tool that includes features like spider, scanner, injector, repeater, sequencer, and intruder.\",\\n    \"sqlpwn\" : \"An SQL injection exploitation tool used to identify vulnerabilities in web applications.\",\\n    \"sqlshell\" : \"A command-line interface for SQL injection exploitation.\"}', response_metadata={'model': 'llama3.1', 'created_at': '2024-07-25T11:26:14.517451244Z', 'message': {'role': 'assistant', 'content': ''}, 'done_reason': 'stop', 'done': True, 'total_duration': 25297969980, 'load_duration': 24169153, 'prompt_eval_count': 20, 'prompt_eval_duration': 79380000, 'eval_count': 515, 'eval_duration': 25151945000}, id='run-4e1202ac-9b2f-4e61-ad47-31f9cf9fba66-0', usage_metadata={'input_tokens': 20, 'output_tokens': 515, 'total_tokens': 535})"
      ]
     },
     "execution_count": 12,
     "metadata": {},
     "output_type": "execute_result"
    }
   ],
   "source": []
  },
  {
   "cell_type": "code",
   "execution_count": null,
   "metadata": {},
   "outputs": [],
   "source": []
  }
 ],
 "metadata": {
  "kernelspec": {
   "display_name": "Train",
   "language": "python",
   "name": "python3"
  },
  "language_info": {
   "codemirror_mode": {
    "name": "ipython",
    "version": 3
   },
   "file_extension": ".py",
   "mimetype": "text/x-python",
   "name": "python",
   "nbconvert_exporter": "python",
   "pygments_lexer": "ipython3",
   "version": "3.12.4"
  }
 },
 "nbformat": 4,
 "nbformat_minor": 2
}
