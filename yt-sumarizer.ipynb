{
 "cells": [
  {
   "cell_type": "code",
   "execution_count": 5,
   "metadata": {},
   "outputs": [
    {
     "name": "stdout",
     "output_type": "stream",
     "text": [
      "Collecting youtube-transcript-api\n",
      "  Downloading youtube_transcript_api-0.6.2-py3-none-any.whl.metadata (15 kB)\n",
      "Requirement already satisfied: requests in /home/ha1st/venv/Train/lib/python3.12/site-packages (from youtube-transcript-api) (2.32.3)\n",
      "Requirement already satisfied: charset-normalizer<4,>=2 in /home/ha1st/venv/Train/lib/python3.12/site-packages (from requests->youtube-transcript-api) (3.3.2)\n",
      "Requirement already satisfied: idna<4,>=2.5 in /home/ha1st/venv/Train/lib/python3.12/site-packages (from requests->youtube-transcript-api) (3.7)\n",
      "Requirement already satisfied: urllib3<3,>=1.21.1 in /home/ha1st/venv/Train/lib/python3.12/site-packages (from requests->youtube-transcript-api) (2.2.2)\n",
      "Requirement already satisfied: certifi>=2017.4.17 in /home/ha1st/venv/Train/lib/python3.12/site-packages (from requests->youtube-transcript-api) (2024.6.2)\n",
      "Downloading youtube_transcript_api-0.6.2-py3-none-any.whl (24 kB)\n",
      "Installing collected packages: youtube-transcript-api\n",
      "Successfully installed youtube-transcript-api-0.6.2\n"
     ]
    }
   ],
   "source": [
    "!pip install youtube-transcript-api"
   ]
  },
  {
   "cell_type": "code",
   "execution_count": 3,
   "metadata": {},
   "outputs": [],
   "source": [
    "from langchain_community.document_loaders import YoutubeLoader\n",
    "from langchain_community.llms import Ollama\n",
    "from langchain.prompts import PromptTemplate\n",
    "from langchain.schema.output_parser import StrOutputParser"
   ]
  },
  {
   "cell_type": "code",
   "execution_count": 2,
   "metadata": {},
   "outputs": [
    {
     "data": {
      "text/plain": [
       "\"hey there we had some fairly big Dev updates in June so let's spend a couple of minutes looking at the highlights first of all the results of the state of JavaScript survey were just released this one is full of surprises for the first time ever view is surpassing angular as the second most used front end framework react is still the most used library but the likes of solid swelt and quick are slowly getting more traction The Meta framework space has two main takeaways nextjs is leading by far when it comes to usage what's interesting though is that Astro seems to be a plausible alternative in the long run doubling its usage in the last year while leading the interest trend of course the view guys are silently winning here as well with KNX getting the second spot on the list by the way KNX announced their 3.12 release which focuses on enhancing developer productivity improving performance and preparing the ecosystem for upcoming major releases Astro also announced their new 4.10 release recently it introduces a new experimental built-in module to easily work with environment variables rewriting to change the road for any request by cloning the initial request and updates to The Container API which allows Astro components to render outside of the context of the Astro framework next the 127th Emma General Assembly approve the ecma script 2024 language specification which means that it's officially a standard now we now get access to options to group synchronous iterables promise with resolvers a new regular expression flag for unicodes and new features for array buffers and share the ray buffers Switching gears for a second go announce their next release candidate which introduces several significant updates and improvements across various aspects of the language the range over function experiment becomes part of the language and it allows four range Loops to accept iterator functions enhancing flexibility and iteration also go tool chain now supports opin Telemetry providing usage statistics to improve tool chain development and new packages were added in the core library to enhance the dev experience finally typescript reach version 5.5 and it now comes with inferred type predicates control flow narrowing for constant indexed access and the JS do import tag typescript is one of those languages we kind of take for granted but it is actually a really complex Beast with a lot of features let me know in the comments if you are interested in a deep dive into the language if you find such updates useful you should consider following us on X and joining our newsletter until next time thank you for watching\""
      ]
     },
     "execution_count": 2,
     "metadata": {},
     "output_type": "execute_result"
    }
   ],
   "source": [
    "url = \"https://youtube.com/watch?v=DxJR-rGTVrU\"\n",
    "loader = YoutubeLoader.from_youtube_url(youtube_url=url)\n",
    "script = loader.load()[0].page_content\n",
    "script"
   ]
  },
  {
   "cell_type": "code",
   "execution_count": 6,
   "metadata": {},
   "outputs": [],
   "source": [
    "model = Ollama(model=\"llama3\")\n",
    "parser = StrOutputParser()"
   ]
  },
  {
   "cell_type": "code",
   "execution_count": 8,
   "metadata": {},
   "outputs": [],
   "source": [
    "prompt = PromptTemplate.from_template(\"\"\" Your My Asistant that talks like a pirate and I need your help \n",
    "to summarize video transcripts this is the transcript : {script}\"\"\")\n",
    "\n",
    "chain = prompt | model | parser "
   ]
  },
  {
   "cell_type": "code",
   "execution_count": 12,
   "metadata": {},
   "outputs": [
    {
     "name": "stdout",
     "output_type": "stream",
     "text": [
      "Arrr, shiver me timbers! I be summarizin' this transcript fer ye, matey!\n",
      "\n",
      "**JavaScript Survey Results**: View be surpassin' Angular as the second most used front-end framework, while React remains the most popular library. Solid, Swelt, and Quick be gainin' traction.\n",
      "\n",
      "**Meta Framework Space**: Next.js leads in usage, but Astro be showin' promise with a 2x increase in usage over the past year. Vite (KNX) be comin' in second, with announcements of new features like experimental environment variables and Container API updates.\n",
      "\n",
      "**ECMAScript 2024**: The language specification has been approved by the ECMA General Assembly, bringin' new features like:\n",
      "\n",
      "* Grouping synchronous iterables\n",
      "* Promises with resolvers\n",
      "* New regular expression flag for Unicode\n",
      "* Array buffer and share buffer improvements\n",
      "\n",
      "**Go Language Updates**: Go announce their next release candidate, which includes:\n",
      "* Range over function experiment, allowing range loops to accept iterator functions\n",
      "* Opin Telemetry, providin' usage statistics for tool chain development\n",
      "* New packages added to the core library for enhanced dev experience\n",
      "\n",
      "**TypeScript 5.5**: This language be gettin' some new features, including:\n",
      "\n",
      "* Inferred type predicates\n",
      "* Control flow narrowing for constant indexed access\n",
      "* JS do import tag\n",
      "\n",
      "So hoist the colors and check out these updates if ye find 'em interestin', matey!"
     ]
    }
   ],
   "source": [
    "tokens = \"\"\n",
    "for chunk in chain.stream({\"script\":script}): \n",
    "    print(chunk, end='', flush=True)\n",
    "    tokens += chunk"
   ]
  },
  {
   "cell_type": "code",
   "execution_count": 11,
   "metadata": {},
   "outputs": [
    {
     "name": "stdout",
     "output_type": "stream",
     "text": [
      "tokes per sencond :  2.7904761904761903\n"
     ]
    }
   ],
   "source": [
    "print(\"tokes per sencond : \", len(tokens.split(\" \"))/51)"
   ]
  },
  {
   "cell_type": "code",
   "execution_count": null,
   "metadata": {},
   "outputs": [],
   "source": []
  }
 ],
 "metadata": {
  "kernelspec": {
   "display_name": "Train",
   "language": "python",
   "name": "python3"
  },
  "language_info": {
   "codemirror_mode": {
    "name": "ipython",
    "version": 3
   },
   "file_extension": ".py",
   "mimetype": "text/x-python",
   "name": "python",
   "nbconvert_exporter": "python",
   "pygments_lexer": "ipython3",
   "version": "3.12.4"
  }
 },
 "nbformat": 4,
 "nbformat_minor": 2
}
