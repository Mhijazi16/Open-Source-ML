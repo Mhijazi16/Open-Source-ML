{
 "cells": [
  {
   "cell_type": "code",
   "execution_count": 1,
   "metadata": {},
   "outputs": [],
   "source": [
    "from langchain.tools import tool"
   ]
  },
  {
   "cell_type": "code",
   "execution_count": null,
   "metadata": {},
   "outputs": [],
   "source": [
    "class MathTools():\n",
    "\n",
    "    @tool(\"Make a Calculations\")\n",
    "    def calculate(operation): \n",
    "        \"\"\" \n",
    "            used when you want to calculate \n",
    "            some mathmatical expression, like \n",
    "            sum, minus, multiplication, division\n",
    "            ..etc \n",
    "        \"\"\"\n",
    "        try: \n",
    "            return eval(operation)\n",
    "        except SyntaxError: \n",
    "            return \"Error : Syntax error in the mathmatical expression\"\n"
   ]
  }
 ],
 "metadata": {
  "kernelspec": {
   "display_name": "Train",
   "language": "python",
   "name": "python3"
  },
  "language_info": {
   "codemirror_mode": {
    "name": "ipython",
    "version": 3
   },
   "file_extension": ".py",
   "mimetype": "text/x-python",
   "name": "python",
   "nbconvert_exporter": "python",
   "pygments_lexer": "ipython3",
   "version": "3.12.4"
  }
 },
 "nbformat": 4,
 "nbformat_minor": 2
}
