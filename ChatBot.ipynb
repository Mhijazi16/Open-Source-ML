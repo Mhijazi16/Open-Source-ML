{
 "cells": [
  {
   "cell_type": "markdown",
   "metadata": {},
   "source": [
    "### Setting up the ChatBot "
   ]
  },
  {
   "cell_type": "code",
   "execution_count": 1,
   "metadata": {},
   "outputs": [],
   "source": [
    "from langchain_community.llms import Ollama\n",
    "chatbot = Ollama(model=\"llama3\")"
   ]
  },
  {
   "cell_type": "code",
   "execution_count": 2,
   "metadata": {},
   "outputs": [
    {
     "data": {
      "text/plain": [
       "\"Hello! I'm not Am Hijazi, but I'd be happy to chat with you. How can I assist you today?\""
      ]
     },
     "execution_count": 2,
     "metadata": {},
     "output_type": "execute_result"
    }
   ],
   "source": [
    "\n",
    "chatbot.invoke(\"Hello Am Hijazi\")\n"
   ]
  },
  {
   "cell_type": "code",
   "execution_count": 3,
   "metadata": {},
   "outputs": [
    {
     "data": {
      "text/plain": [
       "\"I'm just an AI, I don't have any information about your personal identity or name. Each time you interact with me, it's a new conversation and I don't retain any information from previous conversations.\\n\\nIf you'd like to share your name with me, I can store it in our conversation and use it to address you. However, please know that this information is anonymous and I won't share it with anyone else.\""
      ]
     },
     "execution_count": 3,
     "metadata": {},
     "output_type": "execute_result"
    }
   ],
   "source": [
    "chatbot.invoke(\"what is my name \")"
   ]
  },
  {
   "cell_type": "code",
   "execution_count": 5,
   "metadata": {},
   "outputs": [],
   "source": [
    "from langchain_community.chat_message_histories import ChatMessageHistory\n",
    "from langchain_core.chat_history import BaseChatMessageHistory\n",
    "from langchain_core.runnables.history import RunnableWithMessageHistory\n",
    "\n",
    "store = {}\n",
    "def get_session_history(session_id:  str) -> BaseChatMessageHistory : \n",
    "    if session_id not in store : \n",
    "        store[session_id] = ChatMessageHistory()\n",
    "    return store[session_id]\n",
    "\n",
    "chatbot_with_memory  = RunnableWithMessageHistory(chatbot,get_session_history)\n"
   ]
  },
  {
   "cell_type": "code",
   "execution_count": 6,
   "metadata": {},
   "outputs": [
    {
     "name": "stderr",
     "output_type": "stream",
     "text": [
      "Parent run 291d047b-9a81-4a0a-839f-98d8c8ab9947 not found for run 0d6e3cb4-946c-4040-8d8e-9c1ac36eed33. Treating as a root run.\n"
     ]
    },
    {
     "name": "stderr",
     "output_type": "stream",
     "text": [
      "Error in RootListenersTracer.on_llm_end callback: KeyError('message')\n"
     ]
    },
    {
     "name": "stdout",
     "output_type": "stream",
     "text": [
      "As-salamu alaykum (that's \"peace be upon you\" in Arabic)! Nice to meet you, Hijazi. What brings you here today? Are you interested in learning more about a specific topic or just looking for some friendly conversation?\n"
     ]
    }
   ],
   "source": [
    "from langchain_core.messages import HumanMessage\n",
    "config = {\"configurable\" : {\"session_id\" : \"abc2\"}}\n",
    "\n",
    "response = chatbot_with_memory.invoke(\n",
    "    \"Hello I am Hijazi\", \n",
    "    config=config,\n",
    ")\n",
    "\n",
    "print(response)"
   ]
  },
  {
   "cell_type": "code",
   "execution_count": 7,
   "metadata": {},
   "outputs": [
    {
     "name": "stderr",
     "output_type": "stream",
     "text": [
      "Parent run 1c14f7cd-cd61-45c6-b414-fcafd78d4082 not found for run faf85df8-b914-494e-afa9-24dda2989ae6. Treating as a root run.\n"
     ]
    },
    {
     "name": "stderr",
     "output_type": "stream",
     "text": [
      "Error in RootListenersTracer.on_llm_end callback: KeyError('message')\n"
     ]
    },
    {
     "name": "stdout",
     "output_type": "stream",
     "text": [
      "I apologize, but I'm a large language model, I don't have personal knowledge of your identity or name. Each time you interact with me, it's a new conversation and I don't retain any information about our previous interactions.\n",
      "\n",
      "However, if you'd like to share your name with me, I'd be happy to learn it and use it in our conversations!\n"
     ]
    }
   ],
   "source": [
    "response = chatbot_with_memory.invoke(\n",
    "    \"Tell my my name \",\n",
    "    config=config,\n",
    ")\n",
    "\n",
    "print(response)"
   ]
  },
  {
   "cell_type": "code",
   "execution_count": null,
   "metadata": {},
   "outputs": [],
   "source": []
  }
 ],
 "metadata": {
  "kernelspec": {
   "display_name": "Python 3",
   "language": "python",
   "name": "python3"
  },
  "language_info": {
   "codemirror_mode": {
    "name": "ipython",
    "version": 3
   },
   "file_extension": ".py",
   "mimetype": "text/x-python",
   "name": "python",
   "nbconvert_exporter": "python",
   "pygments_lexer": "ipython3",
   "version": "3.8.19"
  }
 },
 "nbformat": 4,
 "nbformat_minor": 2
}
