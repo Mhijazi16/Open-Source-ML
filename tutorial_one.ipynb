{
 "cells": [
  {
   "cell_type": "code",
   "execution_count": 22,
   "metadata": {},
   "outputs": [
    {
     "data": {
      "text/plain": [
       "'A large language model (LLM) is a type of artificial intelligence that uses neural networks and machine learning algorithms to process, understand, and generate human-like text at massive scales, often requiring billions or even trillions of parameters and massive amounts of training data.'"
      ]
     },
     "execution_count": 22,
     "metadata": {},
     "output_type": "execute_result"
    }
   ],
   "source": [
    "from langchain_community.llms import Ollama\n",
    "llm = Ollama(model=\"llama3\")\n",
    "llm.invoke(\"what is a Large Language Model in one sentence\")"
   ]
  },
  {
   "cell_type": "markdown",
   "metadata": {},
   "source": [
    "### 1.Models\n",
    "_______\n"
   ]
  },
  {
   "cell_type": "markdown",
   "metadata": {},
   "source": [
    "### 2.Prompts\n",
    "--------"
   ]
  },
  {
   "cell_type": "code",
   "execution_count": 12,
   "metadata": {},
   "outputs": [
    {
     "data": {
      "text/plain": [
       "' LLMs are AI models trained by feeding them huge amounts of text data and then asking them questions.'"
      ]
     },
     "execution_count": 12,
     "metadata": {},
     "output_type": "execute_result"
    }
   ],
   "source": [
    "from langchain_core.messages import HumanMessage, SystemMessage\n",
    "Schema = [\n",
    "    SystemMessage(content=\"explain stuff to me like a 5 years old\"),\n",
    "    HumanMessage(content=\"explain LLMs in one sentence \")\n",
    "]\n",
    "llm.invoke(Schema)"
   ]
  },
  {
   "cell_type": "markdown",
   "metadata": {},
   "source": [
    "### 3.Prompt Templates\n",
    "___"
   ]
  },
  {
   "cell_type": "code",
   "execution_count": 41,
   "metadata": {},
   "outputs": [
    {
     "name": "stdout",
     "output_type": "stream",
     "text": [
      "==============================\n",
      "Your Prompt is : Whats the Capital of Palestine only print the name of it nothing else\n",
      "==============================\n"
     ]
    },
    {
     "data": {
      "text/plain": [
       "'Ramallah'"
      ]
     },
     "execution_count": 41,
     "metadata": {},
     "output_type": "execute_result"
    }
   ],
   "source": [
    "from langchain_core.prompts import PromptTemplate\n",
    "capital_prompt = PromptTemplate(\n",
    "    input_variables=[\"country\"],\n",
    "    template=\"Whats the Capital of {country} only print the name of it nothing else\"\n",
    ")\n",
    "\n",
    "print(\"==============================\")\n",
    "message = input(\"[Whats the Capital of ]  :  \")\n",
    "user_prompt = capital_prompt.format(country=message)\n",
    "print(f\"Your Prompt is : {user_prompt}\")\n",
    "print(\"==============================\")\n",
    "llm.invoke(user_prompt)"
   ]
  },
  {
   "cell_type": "markdown",
   "metadata": {},
   "source": [
    "### 4. Chains\n",
    "----"
   ]
  },
  {
   "cell_type": "code",
   "execution_count": 42,
   "metadata": {},
   "outputs": [
    {
     "data": {
      "text/plain": [
       "\"Here's a fun fact about Damascus:\\n\\nDid you know that the city of Damascus, Syria has been continuously inhabited for over 11,000 years? That makes it one of the oldest continuously inhabited cities in the world!\\n\\nIn fact, archaeological findings have shown that people were living in the area around present-day Damascus as far back as the Neolithic period, around 10,500 BCE. That's even older than the ancient city of Jericho in the West Bank!\\n\\nOver the centuries, Damascus has been ruled by various empires and civilizations, including the Phoenicians, Greeks, Romans, Byzantines, and Ottomans, each leaving their mark on the city's architecture, culture, and traditions.\\n\\nToday, Damascus is a city steeped in history and tradition, with its ancient souks (markets), mosques, churches, and palaces all bearing testament to its rich past.\""
      ]
     },
     "execution_count": 42,
     "metadata": {},
     "output_type": "execute_result"
    }
   ],
   "source": [
    "from langchain import LLMChain \n",
    "\n",
    "capital_chain = LLMChain(llm=llm, prompt=capital_prompt)\n",
    "result = capital_chain.run(\"Syria\")\n",
    "\n",
    "history_prompt = PromptTemplate(\n",
    "    input_variables=[\"capital\"],\n",
    "    template=\"tell me a fun fact about {capital} \"\n",
    ")\n",
    "\n",
    "history_chain = LLMChain(llm=llm, prompt=history_prompt)\n",
    "history_chain.run(result)"
   ]
  },
  {
   "cell_type": "code",
   "execution_count": null,
   "metadata": {},
   "outputs": [],
   "source": []
  }
 ],
 "metadata": {
  "kernelspec": {
   "display_name": "train",
   "language": "python",
   "name": "python3"
  },
  "language_info": {
   "codemirror_mode": {
    "name": "ipython",
    "version": 3
   },
   "file_extension": ".py",
   "mimetype": "text/x-python",
   "name": "python",
   "nbconvert_exporter": "python",
   "pygments_lexer": "ipython3",
   "version": "3.8.19"
  }
 },
 "nbformat": 4,
 "nbformat_minor": 2
}
