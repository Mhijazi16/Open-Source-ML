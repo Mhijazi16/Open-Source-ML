{
 "cells": [
  {
   "cell_type": "markdown",
   "metadata": {},
   "source": [
    "### 1.Models\n",
    "_______\n"
   ]
  },
  {
   "cell_type": "code",
   "execution_count": 3,
   "metadata": {},
   "outputs": [
    {
     "data": {
      "text/plain": [
       "'A Large Language Model (LLM) is a type of artificial intelligence algorithm that uses neural networks to analyze and generate human-like text, processing vast amounts of data to learn patterns and relationships within language, enabling applications such as natural language processing, text summarization, and conversational AI.'"
      ]
     },
     "execution_count": 3,
     "metadata": {},
     "output_type": "execute_result"
    }
   ],
   "source": [
    "from langchain_community.llms import Ollama\n",
    "llm = Ollama(model=\"llama3\")\n",
    "llm.invoke(\"what is a Large Language Model in one sentence\")\n",
    "# for chunck in llm.stream(\"what is a Large Language Model in one sentence\"): \n",
    "#     print(chunck)"
   ]
  },
  {
   "cell_type": "markdown",
   "metadata": {},
   "source": [
    "### 2.Prompts\n",
    "--------"
   ]
  },
  {
   "cell_type": "code",
   "execution_count": 4,
   "metadata": {},
   "outputs": [
    {
     "data": {
      "text/plain": [
       "'Little buddy! A Large Language Model (LLM) is like a super smart robot that can understand and talk like humans, just like how you learn new words and sentences every day!'"
      ]
     },
     "execution_count": 4,
     "metadata": {},
     "output_type": "execute_result"
    }
   ],
   "source": [
    "from langchain_core.messages import HumanMessage, SystemMessage\n",
    "Schema = [\n",
    "    SystemMessage(content=\"explain stuff to me like a 5 years old\"),\n",
    "    HumanMessage(content=\"explain LLMs in one sentence \")\n",
    "]\n",
    "llm.invoke(Schema)"
   ]
  },
  {
   "cell_type": "markdown",
   "metadata": {},
   "source": [
    "### 3.Prompt Templates\n",
    "___"
   ]
  },
  {
   "cell_type": "code",
   "execution_count": 5,
   "metadata": {},
   "outputs": [
    {
     "name": "stdout",
     "output_type": "stream",
     "text": [
      "==============================\n",
      "Your Prompt is : Whats the Capital of Jordan only print the name of it nothing else\n",
      "==============================\n"
     ]
    },
    {
     "data": {
      "text/plain": [
       "'Amman'"
      ]
     },
     "execution_count": 5,
     "metadata": {},
     "output_type": "execute_result"
    }
   ],
   "source": [
    "from langchain_core.prompts import PromptTemplate\n",
    "capital_prompt = PromptTemplate(\n",
    "    input_variables=[\"country\"],\n",
    "    template=\"Whats the Capital of {country} only print the name of it nothing else\"\n",
    ")\n",
    "\n",
    "print(\"==============================\")\n",
    "message = input(\"[Whats the Capital of ]  :  \")\n",
    "user_prompt = capital_prompt.format(country=message)\n",
    "print(f\"Your Prompt is : {user_prompt}\")\n",
    "print(\"==============================\")\n",
    "llm.invoke(user_prompt)"
   ]
  },
  {
   "cell_type": "markdown",
   "metadata": {},
   "source": [
    "### 4. Chains\n",
    "----"
   ]
  },
  {
   "cell_type": "code",
   "execution_count": 6,
   "metadata": {},
   "outputs": [
    {
     "name": "stderr",
     "output_type": "stream",
     "text": [
      "/home/ha1st/.conda/envs/train/lib/python3.8/site-packages/langchain_core/_api/deprecation.py:119: LangChainDeprecationWarning: The class `LLMChain` was deprecated in LangChain 0.1.17 and will be removed in 0.3.0. Use RunnableSequence, e.g., `prompt | llm` instead.\n",
      "  warn_deprecated(\n",
      "/home/ha1st/.conda/envs/train/lib/python3.8/site-packages/langchain_core/_api/deprecation.py:119: LangChainDeprecationWarning: The method `Chain.run` was deprecated in langchain 0.1.0 and will be removed in 0.3.0. Use invoke instead.\n",
      "  warn_deprecated(\n"
     ]
    },
    {
     "data": {
      "text/plain": [
       "'Here\\'s one:\\n\\nDamascus, the capital city of Syria, is home to the oldest continuously manufactured craft in the world: the Damascene steel-making process!\\n\\nFor over 2,000 years, artisans in Damascus have been crafting exquisite steel swords, daggers, and other blades using a unique technique that involves folding and hammering thin sheets of steel multiple times to create intricate patterns. This ancient art form has remained unchanged for centuries, and the city is still famous for producing some of the finest hand-forged steel weapons in the world!\\n\\nFun fact: The word \"Damascene\" actually refers to this specific type of steel-making process, which originated in Damascus.'"
      ]
     },
     "execution_count": 6,
     "metadata": {},
     "output_type": "execute_result"
    }
   ],
   "source": [
    "from langchain import LLMChain \n",
    "\n",
    "capital_chain = LLMChain(llm=llm, prompt=capital_prompt)\n",
    "result = capital_chain.run(\"Syria\")\n",
    "\n",
    "history_prompt = PromptTemplate(\n",
    "    input_variables=[\"capital\"],\n",
    "    template=\"tell me a fun fact about {capital} \"\n",
    ")\n",
    "\n",
    "history_chain = LLMChain(llm=llm, prompt=history_prompt)\n",
    "history_chain.run(result)"
   ]
  },
  {
   "cell_type": "markdown",
   "metadata": {},
   "source": [
    "### 5.Sequential Chains"
   ]
  },
  {
   "cell_type": "code",
   "execution_count": 10,
   "metadata": {},
   "outputs": [
    {
     "name": "stdout",
     "output_type": "stream",
     "text": [
      "A great starting point!\n",
      "\n",
      "Here's a fun fact about the capital of France, Paris:\n",
      "\n",
      "Did you know that the famous Eiffel Tower in Paris was originally intended to be a temporary structure? It was built for the 1889 World's Fair, held in Paris, and was meant to be dismantled after the event. However, it became an instant icon of the city and a symbol of French culture, so it was left standing and has since become one of the most recognizable landmarks in the world!\n"
     ]
    }
   ],
   "source": [
    "from langchain.chains import SimpleSequentialChain\n",
    "\n",
    "prompt_one = PromptTemplate(\n",
    "    input_variables=[\"country\"],\n",
    "    template=\"tell me the capital of {country}\",\n",
    ")\n",
    "prompt_two = PromptTemplate(\n",
    "    input_variables=[\"capital\"],\n",
    "    template=\"tell me fun fact about {capital}\",\n",
    ")\n",
    "\n",
    "chain1 = LLMChain(llm=llm, prompt=prompt_one)\n",
    "chain2 = LLMChain(llm=llm, prompt=prompt_two)\n",
    "\n",
    "simpleChain = SimpleSequentialChain(chains=[chain1,chain2])\n",
    "print(simpleChain.run(\"France\"))\n"
   ]
  }
 ],
 "metadata": {
  "kernelspec": {
   "display_name": "train",
   "language": "python",
   "name": "python3"
  },
  "language_info": {
   "codemirror_mode": {
    "name": "ipython",
    "version": 3
   },
   "file_extension": ".py",
   "mimetype": "text/x-python",
   "name": "python",
   "nbconvert_exporter": "python",
   "pygments_lexer": "ipython3",
   "version": "3.8.19"
  }
 },
 "nbformat": 4,
 "nbformat_minor": 2
}
