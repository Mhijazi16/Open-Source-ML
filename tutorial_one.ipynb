{
 "cells": [
  {
   "cell_type": "code",
   "execution_count": 5,
   "metadata": {},
   "outputs": [
    {
     "data": {
      "text/plain": [
       "' Large language models are deep neural networks that generate text by predicting the next word in a given sequence.'"
      ]
     },
     "execution_count": 5,
     "metadata": {},
     "output_type": "execute_result"
    }
   ],
   "source": [
    "from langchain_community.llms import Ollama\n",
    "llm = Ollama(model=\"llama3-chatqa\")\n",
    "llm.invoke(\"what is a Large Language Model in one sentence\")"
   ]
  },
  {
   "cell_type": "markdown",
   "metadata": {},
   "source": [
    "### 1.Models\n",
    "_______\n"
   ]
  },
  {
   "cell_type": "markdown",
   "metadata": {},
   "source": [
    "### 2.Prompts\n",
    "--------"
   ]
  },
  {
   "cell_type": "code",
   "execution_count": 12,
   "metadata": {},
   "outputs": [
    {
     "data": {
      "text/plain": [
       "' LLMs are AI models trained by feeding them huge amounts of text data and then asking them questions.'"
      ]
     },
     "execution_count": 12,
     "metadata": {},
     "output_type": "execute_result"
    }
   ],
   "source": [
    "from langchain_core.messages import HumanMessage, SystemMessage\n",
    "Schema = [\n",
    "    SystemMessage(content=\"explain stuff to me like a 5 years old\"),\n",
    "    HumanMessage(content=\"explain LLMs in one sentence \")\n",
    "]\n",
    "llm.invoke(Schema)"
   ]
  },
  {
   "cell_type": "markdown",
   "metadata": {},
   "source": [
    "### 3.Chains\n",
    "____\n"
   ]
  },
  {
   "cell_type": "code",
   "execution_count": 15,
   "metadata": {},
   "outputs": [
    {
     "name": "stdout",
     "output_type": "stream",
     "text": [
      "==============================\n",
      "Your Prompt is : Whats the Capital of Palestine\n"
     ]
    },
    {
     "data": {
      "text/plain": [
       "' Palestinian territories are not a sovereign state and therefore do not have a capital as such. However, most countries recognise East Jerusalem as the de facto capital.'"
      ]
     },
     "execution_count": 15,
     "metadata": {},
     "output_type": "execute_result"
    }
   ],
   "source": [
    "from langchain_core.prompts import PromptTemplate\n",
    "prompt = PromptTemplate(\n",
    "    input_variables=[\"country\"],\n",
    "    template=\"Whats the Capital of {country}\"\n",
    ")\n",
    "print(\"==============================\")\n",
    "message = input(\"[Whats the Capital of ]  :  \")\n",
    "user_prompt = prompt.format(country=message)\n",
    "print(f\"Your Prompt is : {user_prompt}\")\n",
    "print(\"==============================\")\n",
    "llm.invoke(user_prompt)"
   ]
  },
  {
   "cell_type": "code",
   "execution_count": null,
   "metadata": {},
   "outputs": [],
   "source": []
  }
 ],
 "metadata": {
  "kernelspec": {
   "display_name": "train",
   "language": "python",
   "name": "python3"
  },
  "language_info": {
   "codemirror_mode": {
    "name": "ipython",
    "version": 3
   },
   "file_extension": ".py",
   "mimetype": "text/x-python",
   "name": "python",
   "nbconvert_exporter": "python",
   "pygments_lexer": "ipython3",
   "version": "3.8.19"
  }
 },
 "nbformat": 4,
 "nbformat_minor": 2
}
