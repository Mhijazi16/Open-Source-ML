{
 "cells": [
  {
   "cell_type": "code",
   "execution_count": 8,
   "metadata": {},
   "outputs": [
    {
     "data": {
      "text/plain": [
       "' What did the baby pumpkin say to its mom?\\nNothing, it just winked at her!'"
      ]
     },
     "execution_count": 8,
     "metadata": {},
     "output_type": "execute_result"
    }
   ],
   "source": [
    "from langchain_community.llms import ollama\n",
    "\n",
    "model = Ollama(model=\"llama3-chatqa\")\n",
    "model.invoke(\"tell me a joke\")"
   ]
  },
  {
   "cell_type": "code",
   "execution_count": 18,
   "metadata": {},
   "outputs": [],
   "source": [
    "from langchain_core.messages import HumanMessage, SystemMessage\n",
    "\n",
    "message = [\n",
    "    SystemMessage(\"Translate this from from English to Italian then write tcp server in Rust\"),\n",
    "    HumanMessage(\"hello there am Jim!\")\n",
    "]"
   ]
  },
  {
   "cell_type": "code",
   "execution_count": 19,
   "metadata": {},
   "outputs": [
    {
     "data": {
      "text/plain": [
       "' ```rust\\nuse std::io::{Read, Write};\\nuse std::net::{TcpListener, TcpStream};\\n\\nfn main() {\\n    let listener = TcpListener::bind(\"0.0.0.0:8000\").unwrap();\\n    println!(\"Listening on port 8000\");\\n\\n    listener.set_nonblocking(true).unwrap();\\n\\n    loop {\\n        match listener.accept() {\\n            Ok((stream, _)) => {\\n                println!(\"New connection\");\\n                // Start a new task to handle the client\\n                std::thread::spawn(move || {\\n                    let mut stream = stream;\\n                    let mut buffer = [0; 1024];\\n                    stream.read(&mut buffer).unwrap();\\n\\n                    // Process the data in the buffer\\n\\n                    // Send a response back to the client\\n                    stream.write(b\"Hello, world!\").unwrap();\\n                });\\n            }\\n            Err(err) => {\\n                println!(\"Error: {:?}\", err);\\n            }\\n        }\\n    }\\n}\\n```'"
      ]
     },
     "execution_count": 19,
     "metadata": {},
     "output_type": "execute_result"
    }
   ],
   "source": [
    "model.invoke(\"Write Tcp server in Rust\")"
   ]
  },
  {
   "cell_type": "code",
   "execution_count": null,
   "metadata": {},
   "outputs": [],
   "source": [
    "for chunck in model.stream(\"write tcp server in rust\"): \n",
    "    print(chunck)"
   ]
  }
 ],
 "metadata": {
  "kernelspec": {
   "display_name": "train",
   "language": "python",
   "name": "python3"
  },
  "language_info": {
   "codemirror_mode": {
    "name": "ipython",
    "version": 3
   },
   "file_extension": ".py",
   "mimetype": "text/x-python",
   "name": "python",
   "nbconvert_exporter": "python",
   "pygments_lexer": "ipython3",
   "version": "3.8.19"
  }
 },
 "nbformat": 4,
 "nbformat_minor": 2
}
