{
 "cells": [
  {
   "cell_type": "code",
   "execution_count": 25,
   "metadata": {},
   "outputs": [
    {
     "name": "stdout",
     "output_type": "stream",
     "text": [
      "Requirement already satisfied: faiss.cpu in /home/ha1st/venv/Train/lib/python3.12/site-packages (1.8.0.post1)\n",
      "Collecting tqdm\n",
      "  Downloading tqdm-4.66.4-py3-none-any.whl.metadata (57 kB)\n",
      "\u001b[2K     \u001b[90m━━━━━━━━━━━━━━━━━━━━━━━━━━━━━━━━━━━━━━━\u001b[0m \u001b[32m57.6/57.6 kB\u001b[0m \u001b[31m466.5 kB/s\u001b[0m eta \u001b[36m0:00:00\u001b[0ma \u001b[36m0:00:01\u001b[0m\n",
      "\u001b[?25hRequirement already satisfied: numpy<2.0,>=1.0 in /home/ha1st/venv/Train/lib/python3.12/site-packages (from faiss.cpu) (1.26.4)\n",
      "Requirement already satisfied: packaging in /home/ha1st/venv/Train/lib/python3.12/site-packages (from faiss.cpu) (24.1)\n",
      "Downloading tqdm-4.66.4-py3-none-any.whl (78 kB)\n",
      "\u001b[2K   \u001b[90m━━━━━━━━━━━━━━━━━━━━━━━━━━━━━━━━━━━━━━━━\u001b[0m \u001b[32m78.3/78.3 kB\u001b[0m \u001b[31m5.3 MB/s\u001b[0m eta \u001b[36m0:00:00\u001b[0m\n",
      "\u001b[?25hInstalling collected packages: tqdm\n",
      "Successfully installed tqdm-4.66.4\n"
     ]
    }
   ],
   "source": [
    "!pip install faiss.cpu tqdm"
   ]
  },
  {
   "cell_type": "code",
   "execution_count": 11,
   "metadata": {},
   "outputs": [
    {
     "name": "stdout",
     "output_type": "stream",
     "text": [
      "Requirement already satisfied: youtube-transcript-api in /home/ha1st/venv/Train/lib/python3.12/site-packages (0.6.2)\n",
      "Requirement already satisfied: requests in /home/ha1st/venv/Train/lib/python3.12/site-packages (from youtube-transcript-api) (2.32.3)\n",
      "Requirement already satisfied: charset-normalizer<4,>=2 in /home/ha1st/venv/Train/lib/python3.12/site-packages (from requests->youtube-transcript-api) (3.3.2)\n",
      "Requirement already satisfied: idna<4,>=2.5 in /home/ha1st/venv/Train/lib/python3.12/site-packages (from requests->youtube-transcript-api) (3.7)\n",
      "Requirement already satisfied: urllib3<3,>=1.21.1 in /home/ha1st/venv/Train/lib/python3.12/site-packages (from requests->youtube-transcript-api) (2.2.2)\n",
      "Requirement already satisfied: certifi>=2017.4.17 in /home/ha1st/venv/Train/lib/python3.12/site-packages (from requests->youtube-transcript-api) (2024.6.2)\n"
     ]
    }
   ],
   "source": [
    "!pip install youtube-transcript-api"
   ]
  },
  {
   "cell_type": "code",
   "execution_count": 1,
   "metadata": {},
   "outputs": [],
   "source": [
    "from langchain_community.llms import Ollama\n",
    "from langchain_community.embeddings import OllamaEmbeddings\n",
    "from langchain_community.document_loaders import YoutubeLoader\n",
    "from langchain.text_splitter import RecursiveCharacterTextSplitter\n",
    "from langchain.schema.output_parser import StrOutputParser\n",
    "from langchain.vectorstores import FAISS\n",
    "from langchain.prompts import PromptTemplate\n",
    "import time"
   ]
  },
  {
   "cell_type": "code",
   "execution_count": 2,
   "metadata": {},
   "outputs": [],
   "source": [
    "def execute(chain,prompt): \n",
    "    tokens = \"\"\n",
    "    start = time.time()\n",
    "    for chunk in chain.stream(prompt): \n",
    "        print(chunk, end='', flush=True)\n",
    "        tokens += chunk\n",
    "    end = time.time()\n",
    "    print(f\"\\n\\n => tokens/second : {len(tokens.split(\" \"))/(end-start)}\")"
   ]
  },
  {
   "cell_type": "code",
   "execution_count": 39,
   "metadata": {},
   "outputs": [
    {
     "name": "stderr",
     "output_type": "stream",
     "text": [
      "OllamaEmbeddings: 100%|██████████| 2/2 [00:02<00:00,  1.40s/it]\n"
     ]
    }
   ],
   "source": [
    "model = Ollama(model=\"llama3\")\n",
    "parser = StrOutputParser()\n",
    "loader = YoutubeLoader.from_youtube_url(youtube_url='https://youtube.com/watch?v=IM8x_ddNsSc')\n",
    "script = loader.load()[0].page_content\n",
    "chunks = RecursiveCharacterTextSplitter().split_text(script)\n",
    "store = FAISS.from_texts(chunks,OllamaEmbeddings(model=\"nomic-embed-text\",show_progress=True))"
   ]
  },
  {
   "cell_type": "code",
   "execution_count": 41,
   "metadata": {},
   "outputs": [
    {
     "name": "stderr",
     "output_type": "stream",
     "text": [
      "OllamaEmbeddings: 100%|██████████| 1/1 [00:00<00:00,  9.74it/s]\n"
     ]
    },
    {
     "data": {
      "text/plain": [
       "[Document(page_content=\"hey everybody Welcome or welcome back to the channel So today we're going to crack local passwords using John the Ripper which is actually one of the more powerful password cracking tools available if we're lucky enough to access password hashes during a professional penetration test we need to know how to crack those and John the Ripper will help the process is actually very straightforward so let's just jump right into it [Music] so on the screen right now is a Linux password hash file each user in that file has an Associated encrypted hash and that hash value is based on their original password to clear up a typical misconception is that the value we see here is not the password in an encrypted format but rather a hash which is designed to be irreversible what that means is in order to find out what the password is we have to take a word we have to hash it then we compare that hash to the value that we see in the hash file if the hashes match we know what the password is if it doesn't match we have to try another value while the process is actually simple it does take a lot of computational power and time so the company that I work at actually has a system dedicated solely just to performing local password attacks using John the Ripper that system has over a dozen graphic cards whose whole purpose is to run John the Ripper against password hashes so we're going to start with a very basic example so you can download this file and actually others that contain hashes on our website at pentest dotv and while you're there make sure to sign up for free training and watch other tutorials deemed not suitable for YouTube we also have a Discord server that you need to check out as well and all the links are in the description so we can see that in the file there's just a few hashes these are actually extremely weak passwords but unfortunately weak passwords are still used within Enterprise environments however this is going to be a quick and easy way to demonstrate how to use John the Ripper so we need to tell John the Ripper which file has hashes within it and then just let it run notice that John the Ripper has a default word list that it uses which can be found at the directory sluser SL share slj we can also see that JN automatically detected the hash type and then started the cracking process this isn't actually always the case but it guesses correctly most of the time so at some point Point John will exhaust the word list and then go into what they call incremental mode what it's trying to do is Generate random words to test and then Brute Force against them which you can see here if we reach incremental mode within John the Ripper we're actually working too hard within the confines of a professional penetration test and what we really should do is switch to a new word list or just give up and move on to the next step within our penetration testing methodology so a quick note about how John the r actually stores successful cracked hashes so within our home directory is a directory created by John the Ripper within that folder is a file that contains all the cracked hashes and the associated plain text version of those hashes as you can see here so using a more robust word list can actually significantly improve our cracking process so let's take a look at a larger word list which in this case is known as rocku we see that it actually contains over 14 million passwords which we're going to use as our word list to see if we can extract the other passwords from our list of hashes so once we let John the Ripper finish we can see that it identified two additional passwords leaving us with just one unknown I already mentioned thepot file but there's actually another way to see what we've successfully cracked using the show flag as you can see here this Associates the username with the password just for convenience sake so most likely you're going to encounter different types of hashes so John supports a lot of different formats and\"),\n",
       " Document(page_content=\"see here this Associates the username with the password just for convenience sake so most likely you're going to encounter different types of hashes so John supports a lot of different formats and you can see the type just simply using the format option so if we use our password file again and then just specify the format we're going to get the same results so it's actually pretty important to understand the different types of hashes being able to identify them pretty quickly so John doesn't always know the application used to Hash the passwords so it just performs a best guess if we know what the format is beforehand and in reality we should since we're the the ones that collected the hashes during a professional penetration test we can make things easier for John the Ripper to do its job by identifying what format to use so this was just a very quick introduction to John the Ripper which is actually a tool every security professional should understand how to use remember to visit pentest TV to download the hashes that we used in this example and again there's other ones online at that website that you can use to practice within your lab make sure as always that when you use these techniques outside of the lab that you're doing so ethically and only within the scope of a professional penetration test and only with permission of the data owners with that thanks for watching and happy hacking [Music] [Music]\")]"
      ]
     },
     "execution_count": 41,
     "metadata": {},
     "output_type": "execute_result"
    }
   ],
   "source": [
    "retriever = store.as_retriever(search_type=\"similarity\", search_kwargs={\"k\":10})\n",
    "retriever.invoke(\"command\")"
   ]
  },
  {
   "cell_type": "code",
   "execution_count": 29,
   "metadata": {},
   "outputs": [],
   "source": [
    "prompt = PromptTemplate.from_template(\n",
    "    template=\"\"\"\n",
    "    You are my assistant that takes a video transcript as context and answers my questions \n",
    "    Transcript : {script} \n",
    "    Questions : {question}\"\"\")\n",
    "\n",
    "chain = {\"script\" : (lambda x: x[\"question\"]) | retriever,\n",
    "         \"question\" : (lambda x: x[\"question\"])} | prompt | model | parser"
   ]
  },
  {
   "cell_type": "code",
   "execution_count": 42,
   "metadata": {},
   "outputs": [
    {
     "name": "stderr",
     "output_type": "stream",
     "text": [
      "OllamaEmbeddings: 100%|██████████| 1/1 [00:00<00:00,  8.52it/s]\n"
     ]
    },
    {
     "name": "stdout",
     "output_type": "stream",
     "text": [
      "There is no mention of cracking a hash or using any commands related to cryptography in the provided transcript. The speaker shares their personal experience with burnout, its causes and effects, and how they eventually found redemption by building things and remembering why they enjoyed coding. Therefore, I cannot answer your question about what command he used to crack a hash, as it is not relevant or mentioned in the transcript.\n",
      "\n",
      " => tokens/second : 0.8555188288280324\n"
     ]
    }
   ],
   "source": [
    "execute(chain,{\"question\": \"what command did he use to crack the hash\"})"
   ]
  },
  {
   "cell_type": "code",
   "execution_count": 30,
   "metadata": {},
   "outputs": [
    {
     "name": "stderr",
     "output_type": "stream",
     "text": [
      "OllamaEmbeddings: 100%|██████████| 1/1 [00:00<00:00,  9.02it/s]\n"
     ]
    },
    {
     "name": "stdout",
     "output_type": "stream",
     "text": [
      "According to the transcript, the speaker spent around 1-2 years in a state of burnout.\n",
      "\n",
      " => tokens/second : 0.2012895154374461\n"
     ]
    }
   ],
   "source": [
    "execute(chain,{\"question\": \"\"})"
   ]
  },
  {
   "cell_type": "code",
   "execution_count": null,
   "metadata": {},
   "outputs": [],
   "source": []
  }
 ],
 "metadata": {
  "kernelspec": {
   "display_name": "Train",
   "language": "python",
   "name": "python3"
  },
  "language_info": {
   "codemirror_mode": {
    "name": "ipython",
    "version": 3
   },
   "file_extension": ".py",
   "mimetype": "text/x-python",
   "name": "python",
   "nbconvert_exporter": "python",
   "pygments_lexer": "ipython3",
   "version": "3.12.4"
  }
 },
 "nbformat": 4,
 "nbformat_minor": 2
}
