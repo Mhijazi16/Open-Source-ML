{
 "cells": [
  {
   "cell_type": "code",
   "execution_count": 30,
   "metadata": {},
   "outputs": [],
   "source": [
    "from langchain_ollama.chat_models import ChatOllama\n",
    "from langchain.tools import tool"
   ]
  },
  {
   "cell_type": "code",
   "execution_count": 55,
   "metadata": {},
   "outputs": [],
   "source": [
    "from crewai import Agent, Task, Crew\n",
    "\n",
    "@tool(\"add_numbers\")\n",
    "def add_numbers(one: int,two: int) -> int: \n",
    "    \"\"\"\n",
    "        Args : \n",
    "            first of number int\n",
    "            second number of int\n",
    "        Returns : \n",
    "            the result of adding them int\n",
    "    \"\"\"\n",
    "    return one + two"
   ]
  },
  {
   "cell_type": "code",
   "execution_count": 56,
   "metadata": {},
   "outputs": [],
   "source": [
    "from langchain_community.tools import ShellTool\n",
    "from langchain_experimental.llms.ollama_functions import OllamaFunctions\n",
    "tools = [add_numbers]\n",
    "\n",
    "llm = ChatOllama(\n",
    "    model=\"llama3-groq-tool-use\",\n",
    "    temperature=0,\n",
    ").bind_tools([ShellTool()])"
   ]
  },
  {
   "cell_type": "code",
   "execution_count": 57,
   "metadata": {},
   "outputs": [],
   "source": [
    "\n",
    "llm2 = OllamaFunctions(model=\"llama3-groq-tool-use\", temperature=0, format=\"json\").bind_tools([add_numbers])\n",
    "calls = llm2.invoke(\"add numbers 5 and 4122\").tool_calls"
   ]
  },
  {
   "cell_type": "code",
   "execution_count": 73,
   "metadata": {},
   "outputs": [
    {
     "data": {
      "text/plain": [
       "{'name': 'add_numbers',\n",
       " 'args': {'one': 5, 'two': 4122},\n",
       " 'id': 'call_77269807a68a4a099043c86ec69374f8',\n",
       " 'type': 'tool_call'}"
      ]
     },
     "execution_count": 73,
     "metadata": {},
     "output_type": "execute_result"
    }
   ],
   "source": [
    "calls[0]['name']\n",
    "calls[0]"
   ]
  },
  {
   "cell_type": "code",
   "execution_count": 69,
   "metadata": {},
   "outputs": [
    {
     "data": {
      "text/plain": [
       "StructuredTool(name='add_numbers', description='Args : \\n    first of number int\\n    second number of int\\nReturns : \\n    the result of adding them int', args_schema=<class 'pydantic.v1.main.add_numbersSchema'>, func=<function add_numbers at 0x7872eeb06480>)"
      ]
     },
     "execution_count": 69,
     "metadata": {},
     "output_type": "execute_result"
    }
   ],
   "source": [
    "tools[0]"
   ]
  },
  {
   "cell_type": "code",
   "execution_count": 72,
   "metadata": {},
   "outputs": [
    {
     "name": "stdout",
     "output_type": "stream",
     "text": [
      "3\n"
     ]
    }
   ],
   "source": [
    "for call in calls: \n",
    "    for tool in tools: \n",
    "        if call['name'] in tool.name:\n",
    "            print(tool.func(call['args']))"
   ]
  },
  {
   "cell_type": "code",
   "execution_count": null,
   "metadata": {},
   "outputs": [],
   "source": []
  }
 ],
 "metadata": {
  "kernelspec": {
   "display_name": "Train",
   "language": "python",
   "name": "python3"
  },
  "language_info": {
   "codemirror_mode": {
    "name": "ipython",
    "version": 3
   },
   "file_extension": ".py",
   "mimetype": "text/x-python",
   "name": "python",
   "nbconvert_exporter": "python",
   "pygments_lexer": "ipython3",
   "version": "3.12.4"
  }
 },
 "nbformat": 4,
 "nbformat_minor": 2
}
